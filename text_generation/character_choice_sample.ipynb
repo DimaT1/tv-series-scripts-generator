{
 "cells": [
  {
   "cell_type": "code",
   "execution_count": 1,
   "metadata": {},
   "outputs": [],
   "source": [
    "import sys\n",
    "sys.path.append('..')\n",
    "\n",
    "import numpy as np\n",
    "from corpus_preprocessing import utils\n",
    "from character_choice import *"
   ]
  },
  {
   "cell_type": "code",
   "execution_count": 2,
   "metadata": {},
   "outputs": [],
   "source": [
    "%load_ext autoreload\n",
    "%autoreload 2\n",
    "%reload_ext autoreload"
   ]
  },
  {
   "cell_type": "code",
   "execution_count": 3,
   "metadata": {},
   "outputs": [],
   "source": [
    "scenes = utils.load_scenes_from_folder('../raws')"
   ]
  },
  {
   "cell_type": "code",
   "execution_count": 4,
   "metadata": {},
   "outputs": [
    {
     "data": {
      "text/plain": [
       "[Scene: Central Perk, Chandler, Joey, Phoebe, and Monica are there.]\n",
       "monica: There's nothing to tell! He's just some guy I work with!\n",
       "joey: C'mon, you're going out with the guy! There's gotta be something wrong with him!\n",
       "chandler: All right Joey, be nice. So does he have a hump? A hump and a hairpiece?\n",
       "phoebe: Wait, does he eat chalk?\n",
       "phoebe: Just, 'cause, I don't want her to go through what I went through with Carl- oh!\n",
       "monica: Okay, everybody relax. This is not even a date. It's just two people going out to dinner and- not having sex.\n",
       "chandler: Sounds like a date to me."
      ]
     },
     "execution_count": 4,
     "metadata": {},
     "output_type": "execute_result"
    }
   ],
   "source": [
    "filter_stage_directions(scenes)\n",
    "scenes[0]"
   ]
  },
  {
   "cell_type": "code",
   "execution_count": 5,
   "metadata": {},
   "outputs": [
    {
     "data": {
      "text/plain": [
       "{'UNK_CHARACTER': 0,\n",
       " 'END_CHARACTER': 1,\n",
       " 'rachel': 2,\n",
       " 'ross': 3,\n",
       " 'monica': 4,\n",
       " 'chandler': 5,\n",
       " 'joey': 6,\n",
       " 'phoebe': 7,\n",
       " 'mike': 8,\n",
       " 'all': 9,\n",
       " 'richard': 10,\n",
       " 'janice': 11,\n",
       " 'mr. geller': 12,\n",
       " 'charlie': 13,\n",
       " 'carol': 14,\n",
       " 'emily': 15,\n",
       " 'mrs. geller': 16,\n",
       " 'frank': 17,\n",
       " 'tag': 18,\n",
       " 'paul': 19,\n",
       " 'gunther': 20,\n",
       " 'david': 21}"
      ]
     },
     "execution_count": 5,
     "metadata": {},
     "output_type": "execute_result"
    }
   ],
   "source": [
    "character_to_id = generate_character_to_id_dict(scenes, 20)\n",
    "character_to_id "
   ]
  },
  {
   "cell_type": "code",
   "execution_count": 6,
   "metadata": {},
   "outputs": [
    {
     "data": {
      "text/plain": [
       "[4, 6, 5, 7, 7, 4, 5]"
      ]
     },
     "execution_count": 6,
     "metadata": {},
     "output_type": "execute_result"
    }
   ],
   "source": [
    "character_sequences = scenes_to_character_sequences(scenes, character_to_id)\n",
    "character_sequences[0]"
   ]
  },
  {
   "cell_type": "code",
   "execution_count": 7,
   "metadata": {},
   "outputs": [
    {
     "data": {
      "text/plain": [
       "3578"
      ]
     },
     "execution_count": 7,
     "metadata": {},
     "output_type": "execute_result"
    }
   ],
   "source": [
    "len(character_sequences)"
   ]
  },
  {
   "cell_type": "code",
   "execution_count": 8,
   "metadata": {},
   "outputs": [
    {
     "data": {
      "text/plain": [
       "Counter({6: 0.055900621118012424,\n",
       "         2: 0.15093167701863355,\n",
       "         0: 0.4745341614906832,\n",
       "         3: 0.031677018633540374,\n",
       "         14: 0.017391304347826087,\n",
       "         1: 0.07763975155279502,\n",
       "         9: 0.002484472049689441,\n",
       "         5: 0.07080745341614907,\n",
       "         4: 0.046583850931677016,\n",
       "         16: 0.0018633540372670807,\n",
       "         7: 0.0453416149068323,\n",
       "         10: 0.0006211180124223603,\n",
       "         20: 0.004347826086956522,\n",
       "         15: 0.006211180124223602,\n",
       "         12: 0.003105590062111801,\n",
       "         19: 0.0012422360248447205,\n",
       "         18: 0.0006211180124223603,\n",
       "         8: 0.0018633540372670807,\n",
       "         13: 0.0068322981366459624})"
      ]
     },
     "execution_count": 8,
     "metadata": {},
     "output_type": "execute_result"
    }
   ],
   "source": [
    "lm = MarkovCharacterChoice(character_sequences, 3, character_to_id)\n",
    "lm.get_possible_next_characters([3])"
   ]
  },
  {
   "cell_type": "code",
   "execution_count": 9,
   "metadata": {},
   "outputs": [
    {
     "name": "stdout",
     "output_type": "stream",
     "text": [
      "N = 1, Perplexity = 10.91214\n",
      "N = 2, Perplexity = 11.13090\n",
      "N = 3, Perplexity = 32.90798\n"
     ]
    }
   ],
   "source": [
    "from sklearn.model_selection import train_test_split\n",
    "\n",
    "\n",
    "train, test = train_test_split(character_sequences, test_size=0.3, random_state=42)\n",
    "\n",
    "for n in (1, 2, 3):\n",
    "    lm = MarkovCharacterChoice(train, n, character_to_id)\n",
    "    ppx = perplexity(lm, test, character_to_id)\n",
    "    print(\"N = %i, Perplexity = %.5f\" % (n, ppx))\n"
   ]
  },
  {
   "cell_type": "code",
   "execution_count": 10,
   "metadata": {},
   "outputs": [
    {
     "name": "stdout",
     "output_type": "stream",
     "text": [
      "[3, 7, 3, 7, 9, 2, 7, 2, 7, 5, 3, 5, 0, 5, 4, 5, 4, 6, 2, 6, 3, 5, 3, 6, 5, 3, 5, 3, 2, 3, 4, 3, 7, 2, 7, 5, 7, 4, 7, 4, 3, 2, 3, 2, 3, 2, 3, 2, 3, 2, 2, 5, 2, 7, 2, 7, 2, 4, 3, 7, 3, 7, 3, 7, 4, 5, 4, 5, 4, 11, 5, 0, 3, 1]\n"
     ]
    }
   ],
   "source": [
    "prefix = [3]\n",
    "\n",
    "for i in range(100):\n",
    "    prefix += [get_next_character(lm, prefix)]\n",
    "    if prefix[-1] == character_to_id[END_CHARACTER] or len(lm.get_possible_next_characters(prefix)) == 0:\n",
    "        break\n",
    "        \n",
    "print(prefix)"
   ]
  }
 ],
 "metadata": {
  "kernelspec": {
   "display_name": "Python 3",
   "language": "python",
   "name": "python3"
  },
  "language_info": {
   "codemirror_mode": {
    "name": "ipython",
    "version": 3
   },
   "file_extension": ".py",
   "mimetype": "text/x-python",
   "name": "python",
   "nbconvert_exporter": "python",
   "pygments_lexer": "ipython3",
   "version": "3.8.2"
  }
 },
 "nbformat": 4,
 "nbformat_minor": 4
}
