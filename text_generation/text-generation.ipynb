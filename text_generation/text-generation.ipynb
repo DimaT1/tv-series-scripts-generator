{
 "cells": [
  {
   "cell_type": "code",
   "execution_count": 1,
   "metadata": {},
   "outputs": [],
   "source": [
    "import sys\n",
    "sys.path.append('/home/dim/projects/ml/friends/tv-series-scripts-generator')\n",
    "sys.path.append('/home/dim/projects/ml/friends/tv-series-scripts-generator/text_generation')\n",
    "import numpy as np\n",
    "from corpus_preprocessing import utils\n",
    "from character_choice import *\n",
    "from text_generation import *\n",
    "import matplotlib.pyplot as plt\n",
    "%matplotlib inline"
   ]
  },
  {
   "cell_type": "code",
   "execution_count": 2,
   "metadata": {},
   "outputs": [],
   "source": [
    "%load_ext autoreload\n",
    "%autoreload 2\n",
    "%reload_ext autoreload"
   ]
  },
  {
   "cell_type": "code",
   "execution_count": 3,
   "metadata": {},
   "outputs": [],
   "source": [
    "scenes = utils.load_scenes_from_folder('/home/dim/projects/ml/friends/tv-series-scripts-generator/raws')"
   ]
  },
  {
   "cell_type": "code",
   "execution_count": 4,
   "metadata": {},
   "outputs": [
    {
     "data": {
      "text/plain": [
       "[Scene: Central Perk, Chandler, Joey, Phoebe, and Monica are there.]\n",
       "monica: There's nothing to tell! He's just some guy I work with!\n",
       "joey: C'mon, you're going out with the guy! There's gotta be something wrong with him!\n",
       "chandler: All right Joey, be nice. So does he have a hump? A hump and a hairpiece?\n",
       "phoebe: Wait, does he eat chalk?\n",
       "phoebe: Just, 'cause, I don't want her to go through what I went through with Carl- oh!\n",
       "monica: Okay, everybody relax. This is not even a date. It's just two people going out to dinner and- not having sex.\n",
       "chandler: Sounds like a date to me."
      ]
     },
     "execution_count": 4,
     "metadata": {},
     "output_type": "execute_result"
    }
   ],
   "source": [
    "filter_stage_directions(scenes)\n",
    "scenes[0]"
   ]
  },
  {
   "cell_type": "code",
   "execution_count": 5,
   "metadata": {},
   "outputs": [
    {
     "data": {
      "text/plain": [
       "{'UNK_CHARACTER': 0,\n",
       " 'END_CHARACTER': 1,\n",
       " 'rachel': 2,\n",
       " 'ross': 3,\n",
       " 'monica': 4,\n",
       " 'chandler': 5,\n",
       " 'joey': 6,\n",
       " 'phoebe': 7,\n",
       " 'mike': 8,\n",
       " 'all': 9,\n",
       " 'richard': 10,\n",
       " 'janice': 11,\n",
       " 'mr. geller': 12}"
      ]
     },
     "execution_count": 5,
     "metadata": {},
     "output_type": "execute_result"
    }
   ],
   "source": [
    "character_to_id = generate_character_to_id_dict(scenes, 11)\n",
    "character_to_id "
   ]
  },
  {
   "cell_type": "code",
   "execution_count": 10,
   "metadata": {},
   "outputs": [],
   "source": [
    "tokenize_scenes(scenes)"
   ]
  },
  {
   "cell_type": "code",
   "execution_count": 11,
   "metadata": {},
   "outputs": [
    {
     "data": {
      "text/plain": [
       "[Scene: Central Perk, Chandler, Joey, Phoebe, and Monica are there.]\n",
       "monica: there ' s nothing to tell ! he ' s just some guy i work with !\n",
       "joey: c ' mon , you ' re going out with the guy ! there ' s gotta be something wrong with him !\n",
       "chandler: all right joey , be nice . so does he have a hump ? a hump and a hairpiece ?\n",
       "phoebe: wait , does he eat chalk ?\n",
       "phoebe: just , ' cause , i don ' t want her to go through what i went through with carl - oh !\n",
       "monica: okay , everybody relax . this is not even a date . it ' s just two people going out to dinner and - not having sex .\n",
       "chandler: sounds like a date to me ."
      ]
     },
     "execution_count": 11,
     "metadata": {},
     "output_type": "execute_result"
    }
   ],
   "source": [
    "scenes[0]"
   ]
  },
  {
   "cell_type": "code",
   "execution_count": 12,
   "metadata": {},
   "outputs": [],
   "source": [
    "word_to_id = generate_word_to_id(generate_vocab(scenes))\n",
    "id_to_word = generate_id_to_word(generate_vocab(scenes))"
   ]
  },
  {
   "cell_type": "code",
   "execution_count": 13,
   "metadata": {},
   "outputs": [
    {
     "data": {
      "text/plain": [
       "Text(0.5, 0, 'Number of tokens')"
      ]
     },
     "execution_count": 13,
     "metadata": {},
     "output_type": "execute_result"
    },
    {
     "data": {
      "image/png": "[encoded data removed]",
      "text/plain": [
       "<Figure size 432x288 with 1 Axes>"
      ]
     },
     "metadata": {
      "needs_background": "light"
     },
     "output_type": "display_data"
    }
   ],
   "source": [
    "lines_lens = []\n",
    "for scene in scenes:\n",
    "    for action in scene.actions:\n",
    "        lines_lens.append(len(action.line.split()))\n",
    "\n",
    "plt.hist(lines_lens, bins=120)\n",
    "plt.title('Character line length')\n",
    "plt.ylabel('Number of lines')\n",
    "plt.xlabel('Number of tokens')"
   ]
  },
  {
   "cell_type": "code",
   "execution_count": 14,
   "metadata": {},
   "outputs": [],
   "source": [
    "data = generate_trainable_data(scenes, character_to_id, word_to_id)"
   ]
  },
  {
   "cell_type": "code",
   "execution_count": 15,
   "metadata": {},
   "outputs": [
    {
     "data": {
      "text/plain": [
       "((5,\n",
       "  array([  0, 486,  61,  16, 299,  13,  33,   4,   1,   1,   1,   1,   1,\n",
       "           1,   1,   1,   1,   1,   1,   1,   1,   1,   1,   1,   1,   1,\n",
       "           1,   1,   1,   1,   1,   1,   1,   1,   1,   1,   1,   1,   1,\n",
       "           1,   1,   1,   1,   1,   1,   1,   1,   1,   1])),\n",
       " 'sounds like a date to me .')"
      ]
     },
     "execution_count": 15,
     "metadata": {},
     "output_type": "execute_result"
    }
   ],
   "source": [
    "data[0][-1], ids_to_words(data[0][-1][1], id_to_word)"
   ]
  },
  {
   "cell_type": "code",
   "execution_count": 16,
   "metadata": {},
   "outputs": [],
   "source": [
    "import tensorflow as tf\n",
    "assert tf.__version__.startswith('2'), \"Current tf version: {}; required: 2.0.*\".format(tf.__version__)"
   ]
  },
  {
   "cell_type": "code",
   "execution_count": 17,
   "metadata": {},
   "outputs": [],
   "source": [
    "from sklearn.model_selection import train_test_split\n",
    "\n",
    "\n",
    "train, test = train_test_split(data, test_size=0.3, random_state=42)"
   ]
  },
  {
   "cell_type": "code",
   "execution_count": 18,
   "metadata": {},
   "outputs": [],
   "source": [
    "from IPython.display import clear_output\n",
    "from tqdm import tqdm, trange\n",
    "metrics = {'train_loss': [], 'dev_bleu': [] }\n",
    "\n",
    "opt = keras.optimizers.Adam(1e-3)\n",
    "batch_size = 32"
   ]
  },
  {
   "cell_type": "code",
   "execution_count": 19,
   "metadata": {},
   "outputs": [
    {
     "data": {
      "text/plain": [
       "[monica: there ' s nothing to tell ! he ' s just some guy i work with !,\n",
       " joey: c ' mon , you ' re going out with the guy ! there ' s gotta be something wrong with him !,\n",
       " chandler: all right joey , be nice . so does he have a hump ? a hump and a hairpiece ?,\n",
       " phoebe: wait , does he eat chalk ?,\n",
       " phoebe: just , ' cause , i don ' t want her to go through what i went through with carl - oh !,\n",
       " monica: okay , everybody relax . this is not even a date . it ' s just two people going out to dinner and - not having sex .,\n",
       " chandler: sounds like a date to me .]"
      ]
     },
     "execution_count": 19,
     "metadata": {},
     "output_type": "execute_result"
    }
   ],
   "source": [
    "scenes[0].actions"
   ]
  },
  {
   "cell_type": "code",
   "execution_count": 20,
   "metadata": {},
   "outputs": [],
   "source": [
    "model = DialogueModel(10_000, 64, 64, 1)"
   ]
  },
  {
   "cell_type": "code",
   "execution_count": 31,
   "metadata": {},
   "outputs": [],
   "source": [
    "optimizer = tf.keras.optimizers.Adam()\n",
    "loss_object = tf.keras.losses.SparseCategoricalCrossentropy(\n",
    "    from_logits=True, reduction='none')\n",
    "\n",
    "def loss_function(real, pred):\n",
    "    mask = tf.math.logical_not(tf.math.equal(real, 0))\n",
    "    loss_ = loss_object(real, pred)\n",
    "\n",
    "    mask = tf.cast(mask, dtype=loss_.dtype)\n",
    "    loss_ *= mask\n",
    "\n",
    "    return tf.reduce_mean(loss_)"
   ]
  },
  {
   "cell_type": "code",
   "execution_count": 32,
   "metadata": {},
   "outputs": [
    {
     "data": {
      "image/png": "[encoded data removed]",
      "text/plain": [
       "<Figure size 864x288 with 2 Axes>"
      ]
     },
     "metadata": {
      "needs_background": "light"
     },
     "output_type": "display_data"
    },
    {
     "name": "stdout",
     "output_type": "stream",
     "text": [
      "Mean loss=1.777\n"
     ]
    },
    {
     "name": "stderr",
     "output_type": "stream",
     "text": [
      "100%|██████████| 25000/25000 [6:07:07<00:00,  1.13it/s]\n"
     ]
    }
   ],
   "source": [
    "import random\n",
    "random.seed(42)\n",
    "\n",
    "for _ in trange(25000):\n",
    "    step = len(metrics['train_loss']) + 1\n",
    "    batch_ix = random.choice(train)\n",
    "    batch_ix = np.array(list(map(lambda x: x[1], random.choice(train))))\n",
    "    batch_inp = batch_ix[:-1]\n",
    "    batch_out = batch_ix[1:]\n",
    "    \n",
    "    with tf.GradientTape() as tape:\n",
    "         loss_t = loss_function(model(batch_inp), batch_out)\n",
    "    \n",
    "    grads = tape.gradient(loss_t, model.trainable_variables)\n",
    "    opt.apply_gradients(zip(grads, model.trainable_variables))\n",
    "    \n",
    "    \n",
    "    metrics['train_loss'].append((step, loss_t.numpy()))\n",
    "    \n",
    "    if step % 100 == 0:\n",
    "        metrics['dev_bleu'].append((step, compute_bleu(model, dev_inp, dev_out)))\n",
    "        \n",
    "        clear_output(True)\n",
    "        plt.figure(figsize=(12,4))\n",
    "        for i, (name, history) in enumerate(sorted(metrics.items())):\n",
    "            plt.subplot(1, len(metrics), i + 1)\n",
    "            plt.title(name)\n",
    "            plt.plot(*zip(*history))\n",
    "            plt.grid()\n",
    "        plt.show()\n",
    "        print(\"Mean loss=%.3f\" % np.mean(metrics['train_loss'][-10:], axis=0)[1], flush=True)"
   ]
  },
  {
   "cell_type": "code",
   "execution_count": 42,
   "metadata": {},
   "outputs": [
    {
     "name": "stdout",
     "output_type": "stream",
     "text": [
      "[Context] monica: okay , everybody relax . this is not even a date . it ' s just two people going out to dinner and - not having sex .\n",
      "[Ground-Truth Response] chandler: sounds like a date to me .\n",
      "[Model Response] argh ! i can believe you did that .\n"
     ]
    }
   ],
   "source": [
    "print('[Context] monica: okay , everybody relax . this is not even a date . it \\' s just two people going out to dinner and - not having sex .')\n",
    "k = predict_answer(model, 'monica', 'okay , everybody relax . this is not even a date . it \\' s just two people going out to dinner and - not having sex .', 'chandler')\n",
    "\n",
    "print('[Ground-Truth Response] chandler: sounds like a date to me .')\n",
    "print(f'[Model Response] {k}')"
   ]
  },
  {
   "cell_type": "markdown",
   "metadata": {},
   "source": [
    "# CCEDS (Cluster Chains Evaluation for Dialogue Systems)"
   ]
  },
  {
   "cell_type": "markdown",
   "metadata": {},
   "source": [
    "1. We need to choose the character line vectorization algorithm: $V(x)$\n",
    " - bow/tf-idf\n",
    " - fasttext/w2v/glove\n",
    " - bert/elmo\n",
    " \n",
    "2. We choose the clustering algorithm and cluster count: $C(V(x)), n$\n",
    " - K-Means\n",
    " - DBSCAN\n",
    " - EM Clustering\n",
    " \n",
    "    The set of all clusters will be $C$\n",
    "\n",
    "3. For all dataset we calculate the cluster sequences $P[C(V(x)) | prefix]$\n",
    "\n",
    "    This is very similar with how we calculate the n-gram probabilities\n",
    "    \n",
    "    The set of all prefixes will be $Pr$\n",
    "    \n",
    "4. Now we can evaluate the answer:\n",
    "\n",
    "    $\\sum_{c \\in C; p \\in Pr;} cosine\\_distance(V(x), c) \\cdot P(c | prefix)$\n",
    "\n",
    "5. For all dataset:\n",
    "\n",
    "    $\\sum_{x \\in X;} \\big( \\sum_{c \\in C; p \\in Pr;} cosine\\_distance(V(x), c) \\cdot P(c | prefix) \\big)$"
   ]
  }
 ],
 "metadata": {
  "kernelspec": {
   "display_name": "Python 3",
   "language": "python",
   "name": "python3"
  },
  "language_info": {
   "codemirror_mode": {
    "name": "ipython",
    "version": 3
   },
   "file_extension": ".py",
   "mimetype": "text/x-python",
   "name": "python",
   "nbconvert_exporter": "python",
   "pygments_lexer": "ipython3",
   "version": "3.8.2"
  }
 },
 "nbformat": 4,
 "nbformat_minor": 4
}
